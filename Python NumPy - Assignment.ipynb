{
 "cells": [
  {
   "cell_type": "markdown",
   "id": "61bf0d86",
   "metadata": {},
   "source": [
    "# Python Numpy - Assignment"
   ]
  },
  {
   "cell_type": "markdown",
   "id": "d362819b",
   "metadata": {},
   "source": [
    "# 1. Import the package numpy as np."
   ]
  },
  {
   "cell_type": "code",
   "execution_count": 1,
   "id": "f1807565",
   "metadata": {},
   "outputs": [],
   "source": [
    "import numpy as np"
   ]
  },
  {
   "cell_type": "markdown",
   "id": "e01ba793",
   "metadata": {},
   "source": [
    "# 2. Create 1D array \"a1\" from the list and display the properties."
   ]
  },
  {
   "cell_type": "code",
   "execution_count": 2,
   "id": "27e1837d",
   "metadata": {},
   "outputs": [],
   "source": [
    "l1 = list(range(1,20))\n",
    "a1 = np.array(l1)"
   ]
  },
  {
   "cell_type": "code",
   "execution_count": 4,
   "id": "95b45b4e",
   "metadata": {},
   "outputs": [
    {
     "data": {
      "text/plain": [
       "numpy.ndarray"
      ]
     },
     "execution_count": 4,
     "metadata": {},
     "output_type": "execute_result"
    }
   ],
   "source": [
    "#type of a1 object\n",
    "type(a1)"
   ]
  },
  {
   "cell_type": "code",
   "execution_count": 5,
   "id": "a15a861b",
   "metadata": {},
   "outputs": [
    {
     "data": {
      "text/plain": [
       "1"
      ]
     },
     "execution_count": 5,
     "metadata": {},
     "output_type": "execute_result"
    }
   ],
   "source": [
    "#dimmension of a1 object\n",
    "a1.ndim"
   ]
  },
  {
   "cell_type": "code",
   "execution_count": 6,
   "id": "030bb82a",
   "metadata": {},
   "outputs": [
    {
     "data": {
      "text/plain": [
       "19"
      ]
     },
     "execution_count": 6,
     "metadata": {},
     "output_type": "execute_result"
    }
   ],
   "source": [
    "#size of a1 array\n",
    "a1.size"
   ]
  },
  {
   "cell_type": "markdown",
   "id": "5e189c51",
   "metadata": {},
   "source": [
    "# 3. Create 2D array \"a2\" of one digit random numbers with shape (4, 5) and display the properties."
   ]
  },
  {
   "cell_type": "code",
   "execution_count": 24,
   "id": "23bff725",
   "metadata": {},
   "outputs": [],
   "source": [
    "### 2D array Creation\n",
    "a2 = np.random.randint(1,10,(4,5))"
   ]
  },
  {
   "cell_type": "code",
   "execution_count": 25,
   "id": "eac07a28",
   "metadata": {},
   "outputs": [
    {
     "data": {
      "text/plain": [
       "numpy.ndarray"
      ]
     },
     "execution_count": 25,
     "metadata": {},
     "output_type": "execute_result"
    }
   ],
   "source": [
    "# displaying the properties of a2 array\n",
    "type(a2)"
   ]
  },
  {
   "cell_type": "code",
   "execution_count": 26,
   "id": "d91b765e",
   "metadata": {},
   "outputs": [
    {
     "data": {
      "text/plain": [
       "20"
      ]
     },
     "execution_count": 26,
     "metadata": {},
     "output_type": "execute_result"
    }
   ],
   "source": [
    "# total number of elements available in a2 array\n",
    "a2.size"
   ]
  },
  {
   "cell_type": "code",
   "execution_count": 27,
   "id": "23546bad",
   "metadata": {},
   "outputs": [
    {
     "data": {
      "text/plain": [
       "2"
      ]
     },
     "execution_count": 27,
     "metadata": {},
     "output_type": "execute_result"
    }
   ],
   "source": [
    "# number of dimmension of a2 array\n",
    "a2.ndim"
   ]
  },
  {
   "cell_type": "code",
   "execution_count": 29,
   "id": "1051586c",
   "metadata": {},
   "outputs": [
    {
     "data": {
      "text/plain": [
       "dtype('int32')"
      ]
     },
     "execution_count": 29,
     "metadata": {},
     "output_type": "execute_result"
    }
   ],
   "source": [
    "# data type of a2 array\n",
    "a2.dtype"
   ]
  },
  {
   "cell_type": "markdown",
   "id": "c88dd2e7",
   "metadata": {},
   "source": [
    "# 4. Get only first row from a2."
   ]
  },
  {
   "cell_type": "code",
   "execution_count": 41,
   "id": "fb9173b6",
   "metadata": {},
   "outputs": [
    {
     "data": {
      "text/plain": [
       "array([7, 9, 8, 2, 7])"
      ]
     },
     "execution_count": 41,
     "metadata": {},
     "output_type": "execute_result"
    }
   ],
   "source": [
    "a2[0,]"
   ]
  },
  {
   "cell_type": "markdown",
   "id": "f20fb147",
   "metadata": {},
   "source": [
    "# 5. Get only last column from a2."
   ]
  },
  {
   "cell_type": "code",
   "execution_count": 42,
   "id": "c944c16e",
   "metadata": {},
   "outputs": [
    {
     "data": {
      "text/plain": [
       "array([7, 9, 8, 6])"
      ]
     },
     "execution_count": 42,
     "metadata": {},
     "output_type": "execute_result"
    }
   ],
   "source": [
    "a2[:,-1]"
   ]
  },
  {
   "cell_type": "markdown",
   "id": "35863a63",
   "metadata": {},
   "source": [
    "# 6. Get the value at position 2, 4."
   ]
  },
  {
   "cell_type": "code",
   "execution_count": 49,
   "id": "3c27e152",
   "metadata": {},
   "outputs": [
    {
     "data": {
      "text/plain": [
       "9"
      ]
     },
     "execution_count": 49,
     "metadata": {},
     "output_type": "execute_result"
    }
   ],
   "source": [
    "### 2nd Position Value\n",
    "a2[0,1]"
   ]
  },
  {
   "cell_type": "code",
   "execution_count": 50,
   "id": "e7b74fa1",
   "metadata": {},
   "outputs": [
    {
     "data": {
      "text/plain": [
       "7"
      ]
     },
     "execution_count": 50,
     "metadata": {},
     "output_type": "execute_result"
    }
   ],
   "source": [
    "### 4th Position Value\n",
    "a2[0,4]"
   ]
  },
  {
   "cell_type": "markdown",
   "id": "8b4cd850",
   "metadata": {},
   "source": [
    "# 7. Get the data from first two rows and last three columns."
   ]
  },
  {
   "cell_type": "code",
   "execution_count": 54,
   "id": "b3213541",
   "metadata": {},
   "outputs": [
    {
     "data": {
      "text/plain": [
       "array([[8, 2, 7],\n",
       "       [6, 2, 9]])"
      ]
     },
     "execution_count": 54,
     "metadata": {},
     "output_type": "execute_result"
    }
   ],
   "source": [
    "a2[0:2,-3:]"
   ]
  },
  {
   "cell_type": "markdown",
   "id": "c46c4c4f",
   "metadata": {},
   "source": [
    "# 8. Add number 100 to elements in array a2."
   ]
  },
  {
   "cell_type": "code",
   "execution_count": 56,
   "id": "0468f5d5",
   "metadata": {},
   "outputs": [
    {
     "data": {
      "text/plain": [
       "array([[700, 900, 800, 200, 700],\n",
       "       [500, 500, 600, 200, 900],\n",
       "       [200, 100, 200, 300, 800],\n",
       "       [500, 200, 500, 600, 600]])"
      ]
     },
     "execution_count": 56,
     "metadata": {},
     "output_type": "execute_result"
    }
   ],
   "source": [
    "a2 * 100"
   ]
  },
  {
   "cell_type": "markdown",
   "id": "93c55a71",
   "metadata": {},
   "source": [
    "# 9. get the values which are greater than the overall average."
   ]
  },
  {
   "cell_type": "code",
   "execution_count": 59,
   "id": "9a123954",
   "metadata": {},
   "outputs": [
    {
     "data": {
      "text/plain": [
       "array([7, 9, 8, 7, 6, 9, 8, 6, 6])"
      ]
     },
     "execution_count": 59,
     "metadata": {},
     "output_type": "execute_result"
    }
   ],
   "source": [
    "a2[a2 > np.mean(a2)]"
   ]
  },
  {
   "cell_type": "markdown",
   "id": "eb66df90",
   "metadata": {},
   "source": [
    "# 10. Create a numpy array a3 with 20 equidistant elements in range 1, 5."
   ]
  },
  {
   "cell_type": "code",
   "execution_count": 65,
   "id": "5e4a7f84",
   "metadata": {},
   "outputs": [],
   "source": [
    "a3 = np.linspace(1,5,20)"
   ]
  },
  {
   "cell_type": "code",
   "execution_count": 64,
   "id": "a1182e80",
   "metadata": {},
   "outputs": [
    {
     "data": {
      "text/plain": [
       "array([1.        , 1.21052632, 1.42105263, 1.63157895, 1.84210526,\n",
       "       2.05263158, 2.26315789, 2.47368421, 2.68421053, 2.89473684,\n",
       "       3.10526316, 3.31578947, 3.52631579, 3.73684211, 3.94736842,\n",
       "       4.15789474, 4.36842105, 4.57894737, 4.78947368, 5.        ])"
      ]
     },
     "execution_count": 64,
     "metadata": {},
     "output_type": "execute_result"
    }
   ],
   "source": [
    "a3"
   ]
  },
  {
   "cell_type": "markdown",
   "id": "07ffd5db",
   "metadata": {},
   "source": [
    "# 11. Create (3, 5) ndarray with numbers starting 11 till 25 (numbers should not repeat) & save in a4."
   ]
  },
  {
   "cell_type": "code",
   "execution_count": 66,
   "id": "c7f201c3",
   "metadata": {},
   "outputs": [],
   "source": [
    "a4 = np.arange(11,26).reshape(3,5)"
   ]
  },
  {
   "cell_type": "code",
   "execution_count": 72,
   "id": "2c5963c9",
   "metadata": {},
   "outputs": [
    {
     "data": {
      "text/plain": [
       "array([[11, 12, 13, 14, 15],\n",
       "       [16, 17, 18, 19, 20],\n",
       "       [21, 22, 23, 24, 25]])"
      ]
     },
     "execution_count": 72,
     "metadata": {},
     "output_type": "execute_result"
    }
   ],
   "source": [
    "a4"
   ]
  },
  {
   "cell_type": "markdown",
   "id": "4be55a9a",
   "metadata": {},
   "source": [
    "# 12. Get the values from a4 which are less than 15 and greater than 20."
   ]
  },
  {
   "cell_type": "code",
   "execution_count": 79,
   "id": "5a522c21",
   "metadata": {},
   "outputs": [],
   "source": [
    "result = a4[(a4 < 15) | (a4 > 20)]"
   ]
  },
  {
   "cell_type": "code",
   "execution_count": 80,
   "id": "e7db6b69",
   "metadata": {},
   "outputs": [
    {
     "name": "stdout",
     "output_type": "stream",
     "text": [
      "[11 12 13 14 21 22 23 24 25]\n"
     ]
    }
   ],
   "source": [
    "print(result)"
   ]
  },
  {
   "cell_type": "code",
   "execution_count": null,
   "id": "b0e2273b",
   "metadata": {},
   "outputs": [],
   "source": []
  }
 ],
 "metadata": {
  "kernelspec": {
   "display_name": "Python 3 (ipykernel)",
   "language": "python",
   "name": "python3"
  },
  "language_info": {
   "codemirror_mode": {
    "name": "ipython",
    "version": 3
   },
   "file_extension": ".py",
   "mimetype": "text/x-python",
   "name": "python",
   "nbconvert_exporter": "python",
   "pygments_lexer": "ipython3",
   "version": "3.9.1"
  }
 },
 "nbformat": 4,
 "nbformat_minor": 5
}
